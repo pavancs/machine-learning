{
 "cells": [
  {
   "cell_type": "markdown",
   "metadata": {
    "deletable": true,
    "editable": true
   },
   "source": [
    "## Function to parse input data in json format \n",
    "\n",
    "This function parse data in json format to create padnas dataframe."
   ]
  },
  {
   "cell_type": "code",
   "execution_count": 1,
   "metadata": {
    "collapsed": true,
    "deletable": true,
    "editable": true
   },
   "outputs": [],
   "source": [
    "# import required libraries\n",
    "import io\n",
    "import json\n",
    "import pickle\n",
    "import pandas as pd"
   ]
  },
  {
   "cell_type": "code",
   "execution_count": 2,
   "metadata": {
    "collapsed": true,
    "deletable": true,
    "editable": true
   },
   "outputs": [],
   "source": [
    "# Read data\n",
    "in_loc = \"data/train-v1.1.json\"\n",
    "out_loc_article = \"output/train_article.pkl\"\n",
    "out_loc_qas = \"output/train_qas.pkl\""
   ]
  },
  {
   "cell_type": "code",
   "execution_count": 3,
   "metadata": {
    "collapsed": false,
    "deletable": true,
    "editable": true
   },
   "outputs": [],
   "source": [
    "def parse_json(data_json):\n",
    "    \n",
    "    data = data_json['data']\n",
    "    \n",
    "    for i,article in enumerate(data):\n",
    "        title_id = i\n",
    "        title = article['title']\n",
    "        for j,para in enumerate(article['paragraphs']):\n",
    "            paragraph_id = str(i) + '_' + str(j)\n",
    "            context = para['context']\n",
    "            for qas in para['qas']:\n",
    "                question_id = qas['id']\n",
    "                question = qas['question']\n",
    "                for answer in qas['answers']:\n",
    "                    answer_text = answer['text']\n",
    "                    answer_start = answer['answer_start']\n",
    "                    \n",
    "                    yield {\"question_id\":question_id,\n",
    "                           \"question\":question,\n",
    "                           \"answer_text\":answer_text,\n",
    "                           \"answer_start\":answer_start,\n",
    "                           \"title_id\":title_id,\n",
    "                           \"paragraph_id\":paragraph_id}\n",
    "            \n",
    "            yield {\"title_id\":title_id,\n",
    "                   \"title\":title,\n",
    "                   \"paragraph_id\":paragraph_id,\n",
    "                   \"context\":context}"
   ]
  },
  {
   "cell_type": "code",
   "execution_count": 4,
   "metadata": {
    "collapsed": false,
    "deletable": true,
    "editable": true
   },
   "outputs": [],
   "source": [
    "def convert_to_csv(in_loc,out_loc_article,out_loc_qas):\n",
    "    \n",
    "    #function to convert given to tab seperated csv file\n",
    "    \n",
    "    in_json_file_ = io.open(in_loc,encoding = 'utf8')\n",
    "    out_article_file_ = io.open(out_loc_article,'wb')\n",
    "    out_qas_file_ = io.open(out_loc_qas,'wb')\n",
    "    \n",
    "    #read data\n",
    "    data_json = json.loads(in_json_file_.read())\n",
    "\n",
    "    \n",
    "    qas = []\n",
    "    article = []\n",
    "    \n",
    "    for data in parse_json(data_json):\n",
    "        if len(data) == 6:\n",
    "                qas.append(data)\n",
    "        elif len(data) == 4:\n",
    "                article.append(data)\n",
    "        else:\n",
    "            print(\"something went wrong!\")\n",
    "            break\n",
    "    \n",
    "    pickle.dump(article,out_article_file_)\n",
    "    pickle.dump(qas,out_qas_file_)\n",
    "    \n",
    "    in_json_file_.close()\n",
    "    out_article_file_.close()\n",
    "    out_qas_file_.close()\n",
    "    \n",
    "    return"
   ]
  },
  {
   "cell_type": "code",
   "execution_count": 5,
   "metadata": {
    "collapsed": false,
    "deletable": true,
    "editable": true
   },
   "outputs": [],
   "source": [
    "convert_to_csv(in_loc,out_loc_article,out_loc_qas)"
   ]
  },
  {
   "cell_type": "markdown",
   "metadata": {},
   "source": [
    "** Visualize data **"
   ]
  },
  {
   "cell_type": "code",
   "execution_count": 6,
   "metadata": {
    "collapsed": false,
    "deletable": true,
    "editable": true
   },
   "outputs": [
    {
     "data": {
      "text/html": [
       "<div>\n",
       "<table border=\"1\" class=\"dataframe\">\n",
       "  <thead>\n",
       "    <tr style=\"text-align: right;\">\n",
       "      <th></th>\n",
       "      <th>context</th>\n",
       "      <th>paragraph_id</th>\n",
       "      <th>title</th>\n",
       "      <th>title_id</th>\n",
       "    </tr>\n",
       "  </thead>\n",
       "  <tbody>\n",
       "    <tr>\n",
       "      <th>0</th>\n",
       "      <td>Super Bowl 50 was an American football game to...</td>\n",
       "      <td>0_0</td>\n",
       "      <td>Super_Bowl_50</td>\n",
       "      <td>0</td>\n",
       "    </tr>\n",
       "    <tr>\n",
       "      <th>1</th>\n",
       "      <td>The Panthers finished the regular season with ...</td>\n",
       "      <td>0_1</td>\n",
       "      <td>Super_Bowl_50</td>\n",
       "      <td>0</td>\n",
       "    </tr>\n",
       "    <tr>\n",
       "      <th>2</th>\n",
       "      <td>The Broncos took an early lead in Super Bowl 5...</td>\n",
       "      <td>0_2</td>\n",
       "      <td>Super_Bowl_50</td>\n",
       "      <td>0</td>\n",
       "    </tr>\n",
       "    <tr>\n",
       "      <th>3</th>\n",
       "      <td>CBS broadcast Super Bowl 50 in the U.S., and c...</td>\n",
       "      <td>0_3</td>\n",
       "      <td>Super_Bowl_50</td>\n",
       "      <td>0</td>\n",
       "    </tr>\n",
       "    <tr>\n",
       "      <th>4</th>\n",
       "      <td>In early 2012, NFL Commissioner Roger Goodell ...</td>\n",
       "      <td>0_4</td>\n",
       "      <td>Super_Bowl_50</td>\n",
       "      <td>0</td>\n",
       "    </tr>\n",
       "  </tbody>\n",
       "</table>\n",
       "</div>"
      ],
      "text/plain": [
       "                                             context paragraph_id  \\\n",
       "0  Super Bowl 50 was an American football game to...          0_0   \n",
       "1  The Panthers finished the regular season with ...          0_1   \n",
       "2  The Broncos took an early lead in Super Bowl 5...          0_2   \n",
       "3  CBS broadcast Super Bowl 50 in the U.S., and c...          0_3   \n",
       "4  In early 2012, NFL Commissioner Roger Goodell ...          0_4   \n",
       "\n",
       "           title  title_id  \n",
       "0  Super_Bowl_50         0  \n",
       "1  Super_Bowl_50         0  \n",
       "2  Super_Bowl_50         0  \n",
       "3  Super_Bowl_50         0  \n",
       "4  Super_Bowl_50         0  "
      ]
     },
     "execution_count": 6,
     "metadata": {},
     "output_type": "execute_result"
    }
   ],
   "source": [
    "with open(out_loc_article,'rb') as file_:\n",
    "    check1 = pickle.load(file_)\n",
    "\n",
    "    \n",
    "check1 = pd.DataFrame(check1)    \n",
    "check1.head()"
   ]
  },
  {
   "cell_type": "code",
   "execution_count": null,
   "metadata": {
    "collapsed": true,
    "deletable": true,
    "editable": true
   },
   "outputs": [],
   "source": []
  },
  {
   "cell_type": "code",
   "execution_count": null,
   "metadata": {
    "collapsed": true,
    "deletable": true,
    "editable": true
   },
   "outputs": [],
   "source": []
  }
 ],
 "metadata": {
  "anaconda-cloud": {},
  "kernelspec": {
   "display_name": "Python 3",
   "language": "python",
   "name": "python3"
  },
  "language_info": {
   "codemirror_mode": {
    "name": "ipython",
    "version": 3
   },
   "file_extension": ".py",
   "mimetype": "text/x-python",
   "name": "python",
   "nbconvert_exporter": "python",
   "pygments_lexer": "ipython3",
   "version": "3.5.2"
  }
 },
 "nbformat": 4,
 "nbformat_minor": 1
}
