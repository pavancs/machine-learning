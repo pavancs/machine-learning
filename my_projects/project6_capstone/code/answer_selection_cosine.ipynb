{
 "cells": [
  {
   "cell_type": "code",
   "execution_count": 3,
   "metadata": {
    "collapsed": false,
    "deletable": true,
    "editable": true
   },
   "outputs": [
    {
     "name": "stderr",
     "output_type": "stream",
     "text": [
      "Using TensorFlow backend.\n"
     ]
    }
   ],
   "source": [
    "# import libraries\n",
    "\n",
    "import pickle\n",
    "import codecs\n",
    "import numpy as np\n",
    "import pandas as pd\n",
    "\n",
    "from keras.layers import Embedding, Input, LSTM, Dense, Bidirectional,merge,Reshape, Lambda, Dropout,concatenate, Activation, GRU\n",
    "from keras.models import Sequential, Model\n",
    "from keras.layers.pooling import MaxPooling1D,AveragePooling1D\n",
    "from keras.layers.convolutional import Conv1D\n",
    "from keras.preprocessing.text import Tokenizer\n",
    "from keras.preprocessing.sequence import pad_sequences\n",
    "from keras.models import load_model\n",
    "from keras import optimizers\n",
    "from keras.layers.core import Flatten"
   ]
  },
  {
   "cell_type": "code",
   "execution_count": 4,
   "metadata": {
    "collapsed": true,
    "deletable": true,
    "editable": true
   },
   "outputs": [],
   "source": [
    "from keras import backend as K\n",
    "\n",
    "K.set_learning_phase(1) #set learning phase"
   ]
  },
  {
   "cell_type": "code",
   "execution_count": 5,
   "metadata": {
    "collapsed": true,
    "deletable": true,
    "editable": true
   },
   "outputs": [],
   "source": [
    "#constants and flags\n",
    "\n",
    "embedding_dim = 100\n",
    "max_len = 100\n",
    "\n",
    "read_embedding = False\n",
    "\n",
    "top_n =3"
   ]
  },
  {
   "cell_type": "code",
   "execution_count": 6,
   "metadata": {
    "collapsed": false,
    "deletable": true,
    "editable": true
   },
   "outputs": [],
   "source": [
    "# read data\n",
    "\n",
    "in_loc_qa_tuple = \"/input/train_data.pkl\"\n",
    "in_loc_qa_tuple_test = \"/input/test_data.pkl\"\n",
    "\n",
    "with open(in_loc_qa_tuple,'rb') as file_:\n",
    "    train_data = pickle.load(file_)\n",
    "    \n",
    "with open(in_loc_qa_tuple_test,'rb') as file_:\n",
    "    test_data = pickle.load(file_)"
   ]
  },
  {
   "cell_type": "code",
   "execution_count": 7,
   "metadata": {
    "collapsed": true,
    "deletable": true,
    "editable": true
   },
   "outputs": [],
   "source": [
    "train_data = pd.DataFrame(train_data)\n",
    "test_data = pd.DataFrame(test_data)"
   ]
  },
  {
   "cell_type": "code",
   "execution_count": 8,
   "metadata": {
    "collapsed": true,
    "deletable": true,
    "editable": true
   },
   "outputs": [],
   "source": [
    "# drop duplicates in train and test data\n",
    "\n",
    "train_data = train_data.drop_duplicates()\n",
    "test_data = test_data.drop_duplicates()"
   ]
  },
  {
   "cell_type": "code",
   "execution_count": 9,
   "metadata": {
    "collapsed": false,
    "deletable": true,
    "editable": true
   },
   "outputs": [
    {
     "data": {
      "text/plain": [
       "(87423, 7)"
      ]
     },
     "execution_count": 9,
     "metadata": {},
     "output_type": "execute_result"
    }
   ],
   "source": [
    "train_data.shape"
   ]
  },
  {
   "cell_type": "code",
   "execution_count": 10,
   "metadata": {
    "collapsed": false,
    "deletable": true,
    "editable": true
   },
   "outputs": [
    {
     "data": {
      "text/html": [
       "<div>\n",
       "<table border=\"1\" class=\"dataframe\">\n",
       "  <thead>\n",
       "    <tr style=\"text-align: right;\">\n",
       "      <th></th>\n",
       "      <th>0</th>\n",
       "      <th>1</th>\n",
       "      <th>2</th>\n",
       "      <th>3</th>\n",
       "      <th>4</th>\n",
       "      <th>5</th>\n",
       "      <th>6</th>\n",
       "    </tr>\n",
       "  </thead>\n",
       "  <tbody>\n",
       "    <tr>\n",
       "      <th>0</th>\n",
       "      <td>to whom did the virgin mary allegedly appear i...</td>\n",
       "      <td>it is a replica of the grotto at lourdes , fra...</td>\n",
       "      <td>immediately in front of the main building and ...</td>\n",
       "      <td>at the end of the main drive ( and in a direct...</td>\n",
       "      <td>1</td>\n",
       "      <td>0</td>\n",
       "      <td>0</td>\n",
       "    </tr>\n",
       "    <tr>\n",
       "      <th>1</th>\n",
       "      <td>what is in front of the notre dame main buildi...</td>\n",
       "      <td>next to the main building is the basilica of t...</td>\n",
       "      <td>architecturally , the school has a catholic ch...</td>\n",
       "      <td>at the end of the main drive ( and in a direct...</td>\n",
       "      <td>0</td>\n",
       "      <td>0</td>\n",
       "      <td>0</td>\n",
       "    </tr>\n",
       "    <tr>\n",
       "      <th>2</th>\n",
       "      <td>the basilica of the sacred heart at notre dame...</td>\n",
       "      <td>next to the main building is the basilica of t...</td>\n",
       "      <td>immediately behind the basilica is the grotto ...</td>\n",
       "      <td>architecturally , the school has a catholic ch...</td>\n",
       "      <td>1</td>\n",
       "      <td>0</td>\n",
       "      <td>0</td>\n",
       "    </tr>\n",
       "    <tr>\n",
       "      <th>3</th>\n",
       "      <td>what is the grotto at notre dame ?</td>\n",
       "      <td>it is a replica of the grotto at lourdes , fra...</td>\n",
       "      <td>immediately behind the basilica is the grotto ...</td>\n",
       "      <td>architecturally , the school has a catholic ch...</td>\n",
       "      <td>0</td>\n",
       "      <td>1</td>\n",
       "      <td>0</td>\n",
       "    </tr>\n",
       "    <tr>\n",
       "      <th>4</th>\n",
       "      <td>what sits on top of the main building at notre...</td>\n",
       "      <td>next to the main building is the basilica of t...</td>\n",
       "      <td>at the end of the main drive ( and in a direct...</td>\n",
       "      <td>atop the main building ' s gold dome is a gold...</td>\n",
       "      <td>0</td>\n",
       "      <td>0</td>\n",
       "      <td>1</td>\n",
       "    </tr>\n",
       "  </tbody>\n",
       "</table>\n",
       "</div>"
      ],
      "text/plain": [
       "                                                   0  \\\n",
       "0  to whom did the virgin mary allegedly appear i...   \n",
       "1  what is in front of the notre dame main buildi...   \n",
       "2  the basilica of the sacred heart at notre dame...   \n",
       "3                 what is the grotto at notre dame ?   \n",
       "4  what sits on top of the main building at notre...   \n",
       "\n",
       "                                                   1  \\\n",
       "0  it is a replica of the grotto at lourdes , fra...   \n",
       "1  next to the main building is the basilica of t...   \n",
       "2  next to the main building is the basilica of t...   \n",
       "3  it is a replica of the grotto at lourdes , fra...   \n",
       "4  next to the main building is the basilica of t...   \n",
       "\n",
       "                                                   2  \\\n",
       "0  immediately in front of the main building and ...   \n",
       "1  architecturally , the school has a catholic ch...   \n",
       "2  immediately behind the basilica is the grotto ...   \n",
       "3  immediately behind the basilica is the grotto ...   \n",
       "4  at the end of the main drive ( and in a direct...   \n",
       "\n",
       "                                                   3  4  5  6  \n",
       "0  at the end of the main drive ( and in a direct...  1  0  0  \n",
       "1  at the end of the main drive ( and in a direct...  0  0  0  \n",
       "2  architecturally , the school has a catholic ch...  1  0  0  \n",
       "3  architecturally , the school has a catholic ch...  0  1  0  \n",
       "4  atop the main building ' s gold dome is a gold...  0  0  1  "
      ]
     },
     "execution_count": 10,
     "metadata": {},
     "output_type": "execute_result"
    }
   ],
   "source": [
    "train_data.head()"
   ]
  },
  {
   "cell_type": "code",
   "execution_count": 11,
   "metadata": {
    "collapsed": false,
    "deletable": true,
    "editable": true
   },
   "outputs": [],
   "source": [
    "limit =train_data.shape[0]"
   ]
  },
  {
   "cell_type": "code",
   "execution_count": 12,
   "metadata": {
    "collapsed": true,
    "deletable": true,
    "editable": true
   },
   "outputs": [],
   "source": [
    "train_question = np.asarray(train_data[0])\n",
    "train_sentence = np.array(train_data.iloc[:,1:top_n + 1])"
   ]
  },
  {
   "cell_type": "code",
   "execution_count": 13,
   "metadata": {
    "collapsed": true,
    "deletable": true,
    "editable": true
   },
   "outputs": [],
   "source": [
    "test_question = np.asarray(test_data[0])\n",
    "test_sentence = np.array(test_data.iloc[:,1:top_n + 1])"
   ]
  },
  {
   "cell_type": "code",
   "execution_count": 14,
   "metadata": {
    "collapsed": false,
    "deletable": true,
    "editable": true,
    "scrolled": true
   },
   "outputs": [
    {
     "data": {
      "text/plain": [
       "(87423,)"
      ]
     },
     "execution_count": 14,
     "metadata": {},
     "output_type": "execute_result"
    }
   ],
   "source": [
    "train_question.shape"
   ]
  },
  {
   "cell_type": "code",
   "execution_count": 15,
   "metadata": {
    "collapsed": false,
    "deletable": true,
    "editable": true
   },
   "outputs": [],
   "source": [
    "lable_train = np.array(train_data.iloc[:,top_n + 1:])"
   ]
  },
  {
   "cell_type": "code",
   "execution_count": 16,
   "metadata": {
    "collapsed": false,
    "deletable": true,
    "editable": true
   },
   "outputs": [],
   "source": [
    "lable_test = np.array(test_data.iloc[:,top_n + 1:])"
   ]
  },
  {
   "cell_type": "code",
   "execution_count": 17,
   "metadata": {
    "collapsed": false,
    "deletable": true,
    "editable": true
   },
   "outputs": [],
   "source": [
    "single_train_question = []\n",
    "single_train_sentence = []\n",
    "single_train_lable = []\n",
    "\n",
    "for i in range(len(train_question)):\n",
    "    \n",
    "    ans_i = np.argmax(lable_train[i])\n",
    "    \n",
    "    if lable_train[i][ans_i] == 1:\n",
    "        single_train_question.append(train_question[i])\n",
    "        single_train_question.append(train_question[i])\n",
    "        single_train_question.append(train_question[i])\n",
    "        single_train_question.append(train_question[i])\n",
    "        \n",
    "        \n",
    "        if ans_i == 0:\n",
    "            single_train_sentence.append(train_sentence[i][ans_i])\n",
    "            single_train_sentence.append(train_sentence[i][ans_i + 1])\n",
    "            single_train_sentence.append(train_sentence[i][ans_i])\n",
    "            single_train_sentence.append(train_sentence[i][ans_i + 2])\n",
    "\n",
    "        elif ans_i == 0:\n",
    "            single_train_sentence.append(train_sentence[i][ans_i])\n",
    "            single_train_sentence.append(train_sentence[i][ans_i - 1])\n",
    "            single_train_sentence.append(train_sentence[i][ans_i])\n",
    "            single_train_sentence.append(train_sentence[i][ans_i + 1])\n",
    "            \n",
    "        else:\n",
    "            single_train_sentence.append(train_sentence[i][ans_i])\n",
    "            single_train_sentence.append(train_sentence[i][ans_i - 2])\n",
    "            single_train_sentence.append(train_sentence[i][ans_i])\n",
    "            single_train_sentence.append(train_sentence[i][ans_i - 1])\n",
    "            \n",
    "            \n",
    "        single_train_lable.append([1])\n",
    "        single_train_lable.append([0])\n",
    "        single_train_lable.append([1])\n",
    "        single_train_lable.append([0])\n",
    "     \n",
    "    \n",
    "single_train_question = np.array(single_train_question)\n",
    "single_train_sentence = np.array(single_train_sentence)\n",
    "single_train_lable = np.array(single_train_lable)"
   ]
  },
  {
   "cell_type": "code",
   "execution_count": 18,
   "metadata": {
    "collapsed": false,
    "deletable": true,
    "editable": true
   },
   "outputs": [
    {
     "data": {
      "text/plain": [
       "array([ 'to whom did the virgin mary allegedly appear in 1858 in lourdes france ?',\n",
       "       'to whom did the virgin mary allegedly appear in 1858 in lourdes france ?',\n",
       "       'to whom did the virgin mary allegedly appear in 1858 in lourdes france ?',\n",
       "       'to whom did the virgin mary allegedly appear in 1858 in lourdes france ?',\n",
       "       'the basilica of the sacred heart at notre dame is beside to which structure ?',\n",
       "       'the basilica of the sacred heart at notre dame is beside to which structure ?',\n",
       "       'the basilica of the sacred heart at notre dame is beside to which structure ?',\n",
       "       'the basilica of the sacred heart at notre dame is beside to which structure ?',\n",
       "       'what is the grotto at notre dame ?',\n",
       "       'what is the grotto at notre dame ?'],\n",
       "      dtype='<U279')"
      ]
     },
     "execution_count": 18,
     "metadata": {},
     "output_type": "execute_result"
    }
   ],
   "source": [
    "single_train_question[:10]"
   ]
  },
  {
   "cell_type": "code",
   "execution_count": 19,
   "metadata": {
    "collapsed": false,
    "deletable": true,
    "editable": true
   },
   "outputs": [
    {
     "data": {
      "text/plain": [
       "array([ 'it is a replica of the grotto at lourdes , france where the virgin mary reputedly appeared to saint bernadette soubirous in 1858 .',\n",
       "       'immediately in front of the main building and facing it , is a copper statue of christ with arms upraised with the legend \" venite ad me omnes \" .',\n",
       "       'it is a replica of the grotto at lourdes , france where the virgin mary reputedly appeared to saint bernadette soubirous in 1858 .',\n",
       "       'at the end of the main drive ( and in a direct line that connects through 3 statues and the gold dome ) , is a simple , modern stone statue of mary .',\n",
       "       'next to the main building is the basilica of the sacred heart .',\n",
       "       'immediately behind the basilica is the grotto , a marian place of prayer and reflection .',\n",
       "       'next to the main building is the basilica of the sacred heart .',\n",
       "       'architecturally , the school has a catholic character .',\n",
       "       'immediately behind the basilica is the grotto , a marian place of prayer and reflection .',\n",
       "       'architecturally , the school has a catholic character .'],\n",
       "      dtype='<U2135')"
      ]
     },
     "execution_count": 19,
     "metadata": {},
     "output_type": "execute_result"
    }
   ],
   "source": [
    "single_train_sentence[:10]"
   ]
  },
  {
   "cell_type": "code",
   "execution_count": 20,
   "metadata": {
    "collapsed": false,
    "deletable": true,
    "editable": true
   },
   "outputs": [
    {
     "data": {
      "text/plain": [
       "array([[1],\n",
       "       [0],\n",
       "       [1],\n",
       "       [0],\n",
       "       [1],\n",
       "       [0],\n",
       "       [1],\n",
       "       [0],\n",
       "       [1],\n",
       "       [0]])"
      ]
     },
     "execution_count": 20,
     "metadata": {},
     "output_type": "execute_result"
    }
   ],
   "source": [
    "single_train_lable[:10]"
   ]
  },
  {
   "cell_type": "code",
   "execution_count": 21,
   "metadata": {
    "collapsed": false,
    "deletable": true,
    "editable": true
   },
   "outputs": [],
   "source": [
    "single_test_question = []\n",
    "single_test_sentence = []\n",
    "single_test_lable = []\n",
    "\n",
    "for i in range(len(test_question)):\n",
    "    \n",
    "    ans_i = np.argmax(lable_test[i])\n",
    "    \n",
    "    if lable_test[i][ans_i] == 1:\n",
    "        single_test_question.append(test_question[i])\n",
    "        single_test_question.append(test_question[i])\n",
    "        single_test_question.append(test_question[i])\n",
    "        single_test_question.append(test_question[i])\n",
    "        \n",
    "        if ans_i == 0:\n",
    "            single_test_sentence.append(test_sentence[i][ans_i])\n",
    "            single_test_sentence.append(test_sentence[i][ans_i + 1])\n",
    "            single_test_sentence.append(test_sentence[i][ans_i])\n",
    "            single_test_sentence.append(test_sentence[i][ans_i + 2])\n",
    "        elif ans_i == 1:\n",
    "            single_test_sentence.append(test_sentence[i][ans_i])\n",
    "            single_test_sentence.append(test_sentence[i][ans_i - 1])\n",
    "            single_test_sentence.append(test_sentence[i][ans_i])\n",
    "            single_test_sentence.append(test_sentence[i][ans_i + 1])\n",
    "            \n",
    "        else:\n",
    "            single_test_sentence.append(test_sentence[i][ans_i])\n",
    "            single_test_sentence.append(test_sentence[i][ans_i - 2])\n",
    "            single_test_sentence.append(test_sentence[i][ans_i])\n",
    "            single_test_sentence.append(test_sentence[i][ans_i - 1])\n",
    "            \n",
    "        single_test_lable.append([1])\n",
    "        single_test_lable.append([0])\n",
    "        single_test_lable.append([1])\n",
    "        single_test_lable.append([0])\n",
    "     \n",
    "    \n",
    "single_test_question = np.array(single_test_question)\n",
    "single_test_sentence = np.array(single_test_sentence)\n",
    "single_test_lable = np.array(single_test_lable)"
   ]
  },
  {
   "cell_type": "code",
   "execution_count": 22,
   "metadata": {
    "collapsed": true,
    "deletable": true,
    "editable": true
   },
   "outputs": [],
   "source": [
    "#get embedding index\n",
    "\n",
    "def get_embedding_index():\n",
    "    embeddings_index = {}\n",
    "    f = codecs.open('/input/glove/glove.txt',encoding = 'utf-8')\n",
    "    for line in f:\n",
    "        values = line.split()\n",
    "        word = values[0]\n",
    "        coefs = np.asarray(values[1:], dtype='float32')\n",
    "        embeddings_index[word] = coefs\n",
    "    f.close()\n",
    "    \n",
    "    return embeddings_index\n",
    "\n",
    "# get embedding matrix\n",
    "\n",
    "def get_embedding_matrix(vocab):\n",
    "    \n",
    "    embedding_matrix = np.zeros((len(vocab), embedding_dim))\n",
    "    \n",
    "    for word in vocab:\n",
    "        wi = vocab[word]\n",
    "        \n",
    "        if word == '<none>':\n",
    "            continue\n",
    "        if word not in glove2vec.keys():\n",
    "            #print('warning: glove OOV', word)\n",
    "            embedding_matrix[wi] = np.array(glove2vec['<unk>'])\n",
    "        else:\n",
    "            embedding_matrix[wi] = np.array(glove2vec[word])            \n",
    "    \n",
    "    return embedding_matrix\n",
    "\n",
    "# create vocab\n",
    "\n",
    "def create_vocab(data,vocab = None):\n",
    "    \n",
    "    if vocab is None:\n",
    "        vocab = {\n",
    "            '<none>': 0,\n",
    "            '<unk>': 1\n",
    "        }\n",
    "    else:\n",
    "        vocab = vocab\n",
    "    \n",
    "    def update_vocab(sentence):\n",
    "        for word in sentence.split():\n",
    "            if word in vocab:\n",
    "                continue\n",
    "            vocab[word] = len(vocab)\n",
    "    \n",
    "    for i,row in data.iterrows():\n",
    "        for j in range(top_n+1):\n",
    "            update_vocab(row[j])\n",
    "    \n",
    "    return vocab"
   ]
  },
  {
   "cell_type": "code",
   "execution_count": 23,
   "metadata": {
    "collapsed": false,
    "deletable": true,
    "editable": true
   },
   "outputs": [],
   "source": [
    "glove2vec = get_embedding_index()\n",
    "glove2vec['<unk>'] = [0] *100"
   ]
  },
  {
   "cell_type": "code",
   "execution_count": 24,
   "metadata": {
    "collapsed": false,
    "deletable": true,
    "editable": true
   },
   "outputs": [],
   "source": [
    "vocab = create_vocab(train_data)\n",
    "vocab = create_vocab(test_data,vocab)"
   ]
  },
  {
   "cell_type": "code",
   "execution_count": 25,
   "metadata": {
    "collapsed": false,
    "deletable": true,
    "editable": true
   },
   "outputs": [
    {
     "data": {
      "text/plain": [
       "83451"
      ]
     },
     "execution_count": 25,
     "metadata": {},
     "output_type": "execute_result"
    }
   ],
   "source": [
    "len(vocab)"
   ]
  },
  {
   "cell_type": "code",
   "execution_count": 26,
   "metadata": {
    "collapsed": true,
    "deletable": true,
    "editable": true
   },
   "outputs": [],
   "source": [
    "embedding_matrix = get_embedding_matrix(vocab)"
   ]
  },
  {
   "cell_type": "code",
   "execution_count": 27,
   "metadata": {
    "collapsed": false,
    "deletable": true,
    "editable": true
   },
   "outputs": [],
   "source": [
    "embedding_layer = Embedding(len(vocab),\n",
    "                            embedding_dim,\n",
    "                            weights=[embedding_matrix],\n",
    "                            input_length=max_len,\n",
    "                            trainable=True)"
   ]
  },
  {
   "cell_type": "code",
   "execution_count": 28,
   "metadata": {
    "collapsed": true,
    "deletable": true,
    "editable": true
   },
   "outputs": [],
   "source": [
    "def padding(text):\n",
    "    \n",
    "    text_vector = [vocab[word] for word in text.split()]\n",
    "    \n",
    "    if len(text_vector) >= max_len:\n",
    "        text_vector = text_vector[:max_len]\n",
    "    else:\n",
    "        text_vector =  [0] * (max_len - len(text_vector)) + text_vector\n",
    "        \n",
    "    return text_vector "
   ]
  },
  {
   "cell_type": "code",
   "execution_count": 29,
   "metadata": {
    "collapsed": false,
    "deletable": true,
    "editable": true,
    "scrolled": true
   },
   "outputs": [],
   "source": [
    "def prediction_accuracy(y_pred,y_actual):\n",
    "    \n",
    "    count = 0\n",
    "    \n",
    "    for i in range(0,len(y_actual),2):\n",
    "        if y_pred[i] > y_pred[1 + i]:\n",
    "            count+=2\n",
    "            \n",
    "    return count\n"
   ]
  },
  {
   "cell_type": "code",
   "execution_count": 30,
   "metadata": {
    "collapsed": true,
    "deletable": true,
    "editable": true
   },
   "outputs": [],
   "source": [
    "def categorical_hinge(y_true, y_pred):\n",
    "    pos = y_true * y_pred\n",
    "    neg = (1.0 - y_true) * y_pred\n",
    "    return K.maximum(0.0, neg - pos + 1)\n",
    "\n",
    "def cos_dist_output_shape(shapes):\n",
    "    shape1, shape2 = shapes\n",
    "    return (shape1[0],1)\n",
    "\n",
    "def cos_distance(y):\n",
    "    y_true, y_pred  = y\n",
    "    def l2_normalize(x, axis):\n",
    "        norm = K.sqrt(K.sum(K.square(x), axis=axis, keepdims=True))\n",
    "        return K.sign(x) * K.maximum(K.abs(x), K.epsilon()) / K.maximum(norm, K.epsilon())\n",
    "    y_true = l2_normalize(y_true, axis=-1)\n",
    "    y_pred = l2_normalize(y_pred, axis=-1)\n",
    "    \n",
    "    return K.sum(y_true * y_pred, axis=-1)\n"
   ]
  },
  {
   "cell_type": "code",
   "execution_count": 31,
   "metadata": {
    "collapsed": true,
    "deletable": true,
    "editable": true
   },
   "outputs": [],
   "source": [
    "from keras.layers.merge import Add\n",
    "from keras.objectives import cosine_proximity"
   ]
  },
  {
   "cell_type": "code",
   "execution_count": 32,
   "metadata": {
    "collapsed": false,
    "deletable": true,
    "editable": true
   },
   "outputs": [
    {
     "name": "stdout",
     "output_type": "stream",
     "text": [
      "(?, 100, 100)\n"
     ]
    },
    {
     "name": "stderr",
     "output_type": "stream",
     "text": [
      "/usr/local/lib/python3.5/site-packages/ipykernel/__main__.py:10: UserWarning: Update your `LSTM` call to the Keras 2 API: `LSTM(64, dropout=0.3)`\n"
     ]
    },
    {
     "name": "stdout",
     "output_type": "stream",
     "text": [
      "(?, 128)\n",
      "(?, 127, 3000)\n",
      "(?, 1, 3000)\n",
      "(?, 1, 3000)\n",
      "(?, 1)\n"
     ]
    },
    {
     "name": "stderr",
     "output_type": "stream",
     "text": [
      "/usr/local/lib/python3.5/site-packages/ipykernel/__main__.py:17: UserWarning: Update your `Conv1D` call to the Keras 2 API: `Conv1D(3000, kernel_size=2)`\n",
      "/usr/local/lib/python3.5/site-packages/ipykernel/__main__.py:18: UserWarning: Update your `Conv1D` call to the Keras 2 API: `Conv1D(3000, kernel_size=2)`\n"
     ]
    }
   ],
   "source": [
    "#build model\n",
    "input_question = Input(shape=(max_len,))\n",
    "input_sentence = Input(shape=(max_len,))\n",
    "\n",
    "embedded_question = embedding_layer(input_question)\n",
    "embedded_sentence = embedding_layer(input_sentence)\n",
    "print(embedded_question.shape)\n",
    "\n",
    "\n",
    "shared_lstm = Bidirectional(LSTM(64,dropout_W=0.3))\n",
    "\n",
    "\n",
    "encoded_question = shared_lstm(embedded_question)\n",
    "encoded_sentence = shared_lstm(embedded_sentence)\n",
    "print(encoded_question.shape)\n",
    "\n",
    "cnn_question = Conv1D(3000,filter_length = 2)(Reshape((128,1))(encoded_question))\n",
    "cnn_sentence = Conv1D(3000,filter_length = 2)(Reshape((128,1))(encoded_sentence))\n",
    "print(cnn_question.shape)\n",
    "\n",
    "maxpool_question = MaxPooling1D(127)(cnn_question)\n",
    "maxpool_sentence = MaxPooling1D(127)(cnn_sentence)\n",
    "print(maxpool_question.shape)\n",
    "\n",
    "maxpool_question = Activation('tanh')(maxpool_question)\n",
    "maxpool_sentence = Activation('tanh')(maxpool_sentence)\n",
    "print(maxpool_question.shape)\n",
    "\n",
    "\n",
    "cos_similarity = Lambda(cos_distance,output_shape=cos_dist_output_shape)([maxpool_question,maxpool_sentence])\n",
    "print(cos_similarity.shape)\n",
    "\n",
    "model = Model([input_question, input_sentence], [cos_similarity])\n",
    "\n",
    "learning_rate = 0.2\n",
    "momentum = 0.9\n",
    "decay = learning_rate/10\n",
    "\n",
    "sgd = optimizers.SGD(lr=learning_rate, momentum=momentum, decay=decay, nesterov=False)\n",
    "\n",
    "model.compile(sgd, loss = categorical_hinge)"
   ]
  },
  {
   "cell_type": "code",
   "execution_count": 33,
   "metadata": {
    "collapsed": false,
    "deletable": true,
    "editable": true,
    "scrolled": true
   },
   "outputs": [
    {
     "name": "stdout",
     "output_type": "stream",
     "text": [
      "____________________________________________________________________________________________________\n",
      "Layer (type)                     Output Shape          Param #     Connected to                     \n",
      "====================================================================================================\n",
      "input_1 (InputLayer)             (None, 100)           0                                            \n",
      "____________________________________________________________________________________________________\n",
      "input_2 (InputLayer)             (None, 100)           0                                            \n",
      "____________________________________________________________________________________________________\n",
      "embedding_1 (Embedding)          (None, 100, 100)      8345100     input_1[0][0]                    \n",
      "                                                                   input_2[0][0]                    \n",
      "____________________________________________________________________________________________________\n",
      "bidirectional_1 (Bidirectional)  (None, 128)           84480       embedding_1[0][0]                \n",
      "                                                                   embedding_1[1][0]                \n",
      "____________________________________________________________________________________________________\n",
      "reshape_1 (Reshape)              (None, 128, 1)        0           bidirectional_1[0][0]            \n",
      "____________________________________________________________________________________________________\n",
      "reshape_2 (Reshape)              (None, 128, 1)        0           bidirectional_1[1][0]            \n",
      "____________________________________________________________________________________________________\n",
      "conv1d_1 (Conv1D)                (None, 127, 3000)     9000        reshape_1[0][0]                  \n",
      "____________________________________________________________________________________________________\n",
      "conv1d_2 (Conv1D)                (None, 127, 3000)     9000        reshape_2[0][0]                  \n",
      "____________________________________________________________________________________________________\n",
      "max_pooling1d_1 (MaxPooling1D)   (None, 1, 3000)       0           conv1d_1[0][0]                   \n",
      "____________________________________________________________________________________________________\n",
      "max_pooling1d_2 (MaxPooling1D)   (None, 1, 3000)       0           conv1d_2[0][0]                   \n",
      "____________________________________________________________________________________________________\n",
      "activation_1 (Activation)        (None, 1, 3000)       0           max_pooling1d_1[0][0]            \n",
      "____________________________________________________________________________________________________\n",
      "activation_2 (Activation)        (None, 1, 3000)       0           max_pooling1d_2[0][0]            \n",
      "____________________________________________________________________________________________________\n",
      "lambda_1 (Lambda)                (None, 1)             0           activation_1[0][0]               \n",
      "                                                                   activation_2[0][0]               \n",
      "====================================================================================================\n",
      "Total params: 8,447,580\n",
      "Trainable params: 8,447,580\n",
      "Non-trainable params: 0\n",
      "____________________________________________________________________________________________________\n"
     ]
    }
   ],
   "source": [
    "model.summary()"
   ]
  },
  {
   "cell_type": "code",
   "execution_count": 34,
   "metadata": {
    "collapsed": false,
    "deletable": true,
    "editable": true
   },
   "outputs": [],
   "source": [
    "pad_question_train = np.array([padding(q) for q in single_train_question])"
   ]
  },
  {
   "cell_type": "code",
   "execution_count": 35,
   "metadata": {
    "collapsed": true,
    "deletable": true,
    "editable": true
   },
   "outputs": [],
   "source": [
    "pad_question_test = np.array([padding(q) for q in single_test_question])"
   ]
  },
  {
   "cell_type": "code",
   "execution_count": 36,
   "metadata": {
    "collapsed": true,
    "deletable": true,
    "editable": true
   },
   "outputs": [],
   "source": [
    "pad_sentence_train = np.array([padding(a) for a in single_train_sentence])"
   ]
  },
  {
   "cell_type": "code",
   "execution_count": 37,
   "metadata": {
    "collapsed": true,
    "deletable": true,
    "editable": true
   },
   "outputs": [],
   "source": [
    "pad_sentence_test = np.array([padding(a) for a in single_test_sentence])"
   ]
  },
  {
   "cell_type": "code",
   "execution_count": null,
   "metadata": {
    "collapsed": true,
    "deletable": true,
    "editable": true
   },
   "outputs": [],
   "source": [
    "epochs = 10\n",
    "loss = []\n",
    "val_loss = []\n",
    "test_prediction_acc = []"
   ]
  },
  {
   "cell_type": "code",
   "execution_count": null,
   "metadata": {
    "collapsed": false,
    "deletable": true,
    "editable": true
   },
   "outputs": [
    {
     "name": "stdout",
     "output_type": "stream",
     "text": [
      "Train on 288392 samples, validate on 32044 samples\n",
      "Epoch 1/1\n",
      "4299s - loss: 0.8859 - val_loss: 0.8781\n",
      "Test data model accuracy: 0.5828256454888309\n",
      "Train on 288392 samples, validate on 32044 samples\n",
      "Epoch 1/1\n",
      "4318s - loss: 0.8459 - val_loss: 0.8659\n",
      "Test data model accuracy: 0.5858234213325597\n",
      "Train on 288392 samples, validate on 32044 samples\n",
      "Epoch 1/1\n",
      "4312s - loss: 0.8443 - val_loss: 0.8639\n"
     ]
    }
   ],
   "source": [
    "for epoch in range(epochs):\n",
    "    #train model\n",
    "    history = model.fit([pad_question_train,pad_sentence_train], \n",
    "          [single_train_lable],\n",
    "          epochs=1, verbose=2,batch_size = 256,shuffle = True,validation_split=0.1)\n",
    "    \n",
    "    predict = model.predict([pad_question_test,pad_sentence_test],verbose=2)\n",
    "    prediction_acc = prediction_accuracy(predict,single_test_lable)/len(predict)\n",
    "    print(\"Test data model accuracy: %s\" % prediction_acc)\n",
    "    loss.append(history.history['loss'][0])\n",
    "    val_loss.append(history.history['val_loss'][0])\n",
    "    test_prediction_acc.append(prediction_acc)"
   ]
  },
  {
   "cell_type": "code",
   "execution_count": 45,
   "metadata": {
    "collapsed": true,
    "deletable": true,
    "editable": true
   },
   "outputs": [],
   "source": [
    "model.save('/output/save_model')"
   ]
  },
  {
   "cell_type": "markdown",
   "metadata": {
    "collapsed": true,
    "deletable": true,
    "editable": true
   },
   "source": [
    "## Plot loss"
   ]
  },
  {
   "cell_type": "code",
   "execution_count": 49,
   "metadata": {
    "collapsed": false,
    "deletable": true,
    "editable": true
   },
   "outputs": [
    {
     "data": {
      "image/png": "[encoded data removed]",
      "text/plain": [
       "<matplotlib.figure.Figure at 0x7fa3748e4470>"
      ]
     },
     "metadata": {},
     "output_type": "display_data"
    }
   ],
   "source": [
    "import matplotlib.pyplot as plt\n",
    "\n",
    "# summarize history for loss\n",
    "plt.plot(loss)\n",
    "plt.plot(val_loss)\n",
    "plt.title('model loss')\n",
    "\n",
    "plt.ylabel('loss')\n",
    "plt.xlabel('epoch')\n",
    "plt.legend(['train', 'test'], loc='upper left')\n",
    "plt.show()"
   ]
  },
  {
   "cell_type": "markdown",
   "metadata": {
    "deletable": true,
    "editable": true
   },
   "source": [
    "## Final Model accuracy"
   ]
  },
  {
   "cell_type": "code",
   "execution_count": 51,
   "metadata": {
    "collapsed": false,
    "deletable": true,
    "editable": true
   },
   "outputs": [
    {
     "name": "stdout",
     "output_type": "stream",
     "text": [
      "0.582680591818973\n"
     ]
    }
   ],
   "source": [
    "predict = model.predict([pad_question_test,pad_sentence_test],verbose=2)\n",
    "print(prediction_accuracy(predict,single_test_lable)/len(predict))"
   ]
  }
 ],
 "metadata": {
  "kernelspec": {
   "display_name": "Python 3",
   "language": "python",
   "name": "python3"
  },
  "language_info": {
   "codemirror_mode": {
    "name": "ipython",
    "version": 3
   },
   "file_extension": ".py",
   "mimetype": "text/x-python",
   "name": "python",
   "nbconvert_exporter": "python",
   "pygments_lexer": "ipython3",
   "version": "3.5.3"
  }
 },
 "nbformat": 4,
 "nbformat_minor": 2
}
